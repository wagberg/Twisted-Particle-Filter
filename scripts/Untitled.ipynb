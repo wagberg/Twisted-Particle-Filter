{
 "cells": [
  {
   "cell_type": "code",
   "execution_count": 2,
   "metadata": {},
   "outputs": [
    {
     "name": "stderr",
     "output_type": "stream",
     "text": [
      "\u001b[32m\u001b[1m Activating\u001b[22m\u001b[39m environment at `~/Nextcloud/Work/phd_uppsala/projects/nonlinear system identification/Twisted Particle Filter/Project.toml`\n"
     ]
    }
   ],
   "source": [
    "using Pkg\n",
    "Pkg.activate(\"..\")"
   ]
  },
  {
   "cell_type": "code",
   "execution_count": 3,
   "metadata": {},
   "outputs": [],
   "source": [
    "using LowLevelParticleFilters\n",
    "using LinearAlgebra\n",
    "using GaussianSmoothers\n",
    "using Distributions\n",
    "using StaticArrays"
   ]
  },
  {
   "cell_type": "code",
   "execution_count": 12,
   "metadata": {},
   "outputs": [
    {
     "name": "stderr",
     "output_type": "stream",
     "text": [
      "WARNING: redefinition of constant df. This may fail, cause incorrect answers, or produce other errors.\n",
      "WARNING: redefinition of constant d0. This may fail, cause incorrect answers, or produce other errors.\n"
     ]
    },
    {
     "ename": "LoadError",
     "evalue": "invalid redefinition of constant A",
     "output_type": "error",
     "traceback": [
      "invalid redefinition of constant A",
      "",
      "Stacktrace:",
      " [1] top-level scope at In[12]:12",
      " [2] include_string(::Function, ::Module, ::String, ::String) at ./loading.jl:1091",
      " [3] execute_code(::String, ::String) at /home/johan/.julia/packages/IJulia/a1SNk/src/execute_request.jl:27",
      " [4] execute_request(::ZMQ.Socket, ::IJulia.Msg) at /home/johan/.julia/packages/IJulia/a1SNk/src/execute_request.jl:86",
      " [5] #invokelatest#1 at ./essentials.jl:710 [inlined]",
      " [6] invokelatest at ./essentials.jl:709 [inlined]",
      " [7] eventloop(::ZMQ.Socket) at /home/johan/.julia/packages/IJulia/a1SNk/src/eventloop.jl:8",
      " [8] (::IJulia.var\"#15#18\")() at ./task.jl:356"
     ]
    }
   ],
   "source": [
    "n = 4   # Dimension of state\n",
    "m = 2   # Dimension of input\n",
    "p = 2   # Dimension of measurements\n",
    "N = 500 # Number of particles\n",
    "T = 1000\n",
    "\n",
    "const dg = MvNormal(p,1.0)          # Measurement noise Distribution\n",
    "const df = MvNormal(n,1.0)          # Dynamics noise Distribution\n",
    "const d0 = MvNormal(randn(n),2.0)   # Initial state Distribution\n",
    "\n",
    "Tr = randn(n,n)\n",
    "const A = SMatrix{n,n}(Tr*diagm(0=>LinRange(0.5,0.95,n))/Tr)\n",
    "const B = @SMatrix randn(n,m)\n",
    "const C = @SMatrix randn(p,n)\n",
    "\n",
    "dynamics(x,u) = A*x .+ B*u\n",
    "measurement(x) = C*x\n",
    "vecvec_to_mat(x) = copy(reduce(hcat, x)') # Helper function\n",
    "\n",
    "pf = ParticleFilter(N, dynamics, measurement, df, dg, d0)\n",
    "xs,u,y = LowLevelParticleFilters.simulate(pf,T,df) # We can simulate the model that the pf represents\n",
    "\n",
    "eye(n) = Matrix{Float64}(I,n,n)\n",
    "kf     = LowLevelParticleFilters.KalmanFilter(A, B, C, 0, eye(n), eye(p), MvNormal([1.,1.]))\n",
    "xf,xt,R,Rt,ll = forward_trajectory(kf, u, y) # filtered, prediction, pred cov, filter cov, loglik\n",
    "xT,R,lls = smooth(kf, u, y) # Smoothed state, smoothed cov, loglik"
   ]
  },
  {
   "cell_type": "code",
   "execution_count": 9,
   "metadata": {},
   "outputs": [
    {
     "ename": "LoadError",
     "evalue": "MethodError: no method matching LinearDynamicsModel(::SArray{Tuple{2,2},Float64,2,4}, ::SArray{Tuple{2,2},Float64,2,4}, ::Array{Float64,2})\nClosest candidates are:\n  LinearDynamicsModel(::T, ::T) where T at /home/johan/Nextcloud/Work/phd_uppsala/projects/nonlinear system identification/Twisted Particle Filter/src/GaussianSmoothers/src/models.jl:60\n  LinearDynamicsModel(::T, ::T, !Matched::T) where T at /home/johan/Nextcloud/Work/phd_uppsala/projects/nonlinear system identification/Twisted Particle Filter/src/GaussianSmoothers/src/models.jl:56\n  LinearDynamicsModel(::T, ::T, !Matched::T, !Matched::T) where T at /home/johan/Nextcloud/Work/phd_uppsala/projects/nonlinear system identification/Twisted Particle Filter/src/GaussianSmoothers/src/models.jl:47",
     "output_type": "error",
     "traceback": [
      "MethodError: no method matching LinearDynamicsModel(::SArray{Tuple{2,2},Float64,2,4}, ::SArray{Tuple{2,2},Float64,2,4}, ::Array{Float64,2})\nClosest candidates are:\n  LinearDynamicsModel(::T, ::T) where T at /home/johan/Nextcloud/Work/phd_uppsala/projects/nonlinear system identification/Twisted Particle Filter/src/GaussianSmoothers/src/models.jl:60\n  LinearDynamicsModel(::T, ::T, !Matched::T) where T at /home/johan/Nextcloud/Work/phd_uppsala/projects/nonlinear system identification/Twisted Particle Filter/src/GaussianSmoothers/src/models.jl:56\n  LinearDynamicsModel(::T, ::T, !Matched::T, !Matched::T) where T at /home/johan/Nextcloud/Work/phd_uppsala/projects/nonlinear system identification/Twisted Particle Filter/src/GaussianSmoothers/src/models.jl:47",
      "",
      "Stacktrace:",
      " [1] top-level scope at In[9]:1",
      " [2] include_string(::Function, ::Module, ::String, ::String) at ./loading.jl:1091",
      " [3] execute_code(::String, ::String) at /home/johan/.julia/packages/IJulia/a1SNk/src/execute_request.jl:27",
      " [4] execute_request(::ZMQ.Socket, ::IJulia.Msg) at /home/johan/.julia/packages/IJulia/a1SNk/src/execute_request.jl:86",
      " [5] #invokelatest#1 at ./essentials.jl:710 [inlined]",
      " [6] invokelatest at ./essentials.jl:709 [inlined]",
      " [7] eventloop(::ZMQ.Socket) at /home/johan/.julia/packages/IJulia/a1SNk/src/eventloop.jl:8",
      " [8] (::IJulia.var\"#15#18\")() at ./task.jl:356"
     ]
    }
   ],
   "source": [
    "LinearDynamicsModel(A, B, eye(p))"
   ]
  },
  {
   "cell_type": "code",
   "execution_count": 11,
   "metadata": {},
   "outputs": [
    {
     "name": "stdout",
     "output_type": "stream",
     "text": [
      "  0.001151 seconds (2.91 k allocations: 291.359 KiB)\n"
     ]
    }
   ],
   "source": [
    "@time forward_trajectory(kf, u, y);"
   ]
  },
  {
   "cell_type": "code",
   "execution_count": null,
   "metadata": {},
   "outputs": [],
   "source": []
  }
 ],
 "metadata": {
  "kernelspec": {
   "display_name": "Julia 1.5.2",
   "language": "julia",
   "name": "julia-1.5"
  },
  "language_info": {
   "file_extension": ".jl",
   "mimetype": "application/julia",
   "name": "julia",
   "version": "1.5.2"
  }
 },
 "nbformat": 4,
 "nbformat_minor": 2
}
